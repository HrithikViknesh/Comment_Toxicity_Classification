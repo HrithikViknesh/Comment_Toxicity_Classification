{
 "cells": [
  {
   "cell_type": "markdown",
   "metadata": {
    "toc": true
   },
   "source": [
    "<h1>Table of Contents<span class=\"tocSkip\"></span></h1>\n",
    "<div class=\"toc\"><ul class=\"toc-item\"><li><span><a href=\"#Problem-Defintion:\" data-toc-modified-id=\"Problem-Defintion:-1\"><span class=\"toc-item-num\">1&nbsp;&nbsp;</span>Problem Defintion:</a></span></li><li><span><a href=\"#Data\" data-toc-modified-id=\"Data-2\"><span class=\"toc-item-num\">2&nbsp;&nbsp;</span>Data</a></span></li><li><span><a href=\"#Evaluation\" data-toc-modified-id=\"Evaluation-3\"><span class=\"toc-item-num\">3&nbsp;&nbsp;</span>Evaluation</a></span></li><li><span><a href=\"#Dealing-with-the-data\" data-toc-modified-id=\"Dealing-with-the-data-4\"><span class=\"toc-item-num\">4&nbsp;&nbsp;</span>Dealing with the data</a></span><ul class=\"toc-item\"><li><span><a href=\"#Making-necessary-imports-and-installations\" data-toc-modified-id=\"Making-necessary-imports-and-installations-4.1\"><span class=\"toc-item-num\">4.1&nbsp;&nbsp;</span>Making necessary imports and installations</a></span></li><li><span><a href=\"#Exploring-the-data\" data-toc-modified-id=\"Exploring-the-data-4.2\"><span class=\"toc-item-num\">4.2&nbsp;&nbsp;</span>Exploring the data</a></span></li><li><span><a href=\"#Contribution-of-each-category\" data-toc-modified-id=\"Contribution-of-each-category-4.3\"><span class=\"toc-item-num\">4.3&nbsp;&nbsp;</span>Contribution of each category</a></span></li><li><span><a href=\"#Define-parameters-and-constants\" data-toc-modified-id=\"Define-parameters-and-constants-4.4\"><span class=\"toc-item-num\">4.4&nbsp;&nbsp;</span>Define parameters and constants</a></span></li><li><span><a href=\"#Word-Embeddings\" data-toc-modified-id=\"Word-Embeddings-4.5\"><span class=\"toc-item-num\">4.5&nbsp;&nbsp;</span>Word Embeddings</a></span><ul class=\"toc-item\"><li><span><a href=\"#Why-word-embeddings?\" data-toc-modified-id=\"Why-word-embeddings?-4.5.1\"><span class=\"toc-item-num\">4.5.1&nbsp;&nbsp;</span>Why word embeddings?</a></span></li><li><span><a href=\"#How-do-word-embeddings-work?\" data-toc-modified-id=\"How-do-word-embeddings-work?-4.5.2\"><span class=\"toc-item-num\">4.5.2&nbsp;&nbsp;</span>How do word embeddings work?</a></span></li><li><span><a href=\"#Pretrained-Word-Embeddings\" data-toc-modified-id=\"Pretrained-Word-Embeddings-4.5.3\"><span class=\"toc-item-num\">4.5.3&nbsp;&nbsp;</span>Pretrained Word Embeddings</a></span></li><li><span><a href=\"#Load-the-pretrained-word-embeddings\" data-toc-modified-id=\"Load-the-pretrained-word-embeddings-4.5.4\"><span class=\"toc-item-num\">4.5.4&nbsp;&nbsp;</span>Load the pretrained word embeddings</a></span></li></ul></li><li><span><a href=\"#Preparing-the-data-to-feed-to-model\" data-toc-modified-id=\"Preparing-the-data-to-feed-to-model-4.6\"><span class=\"toc-item-num\">4.6&nbsp;&nbsp;</span>Preparing the data to feed to model</a></span></li><li><span><a href=\"#Converting-sentences-into-numbers-(sequences)\" data-toc-modified-id=\"Converting-sentences-into-numbers-(sequences)-4.7\"><span class=\"toc-item-num\">4.7&nbsp;&nbsp;</span>Converting sentences into numbers (sequences)</a></span></li><li><span><a href=\"#Perform-padding-on-the-sequences\" data-toc-modified-id=\"Perform-padding-on-the-sequences-4.8\"><span class=\"toc-item-num\">4.8&nbsp;&nbsp;</span>Perform padding on the sequences</a></span></li><li><span><a href=\"#Create-Embedding-Matrix\" data-toc-modified-id=\"Create-Embedding-Matrix-4.9\"><span class=\"toc-item-num\">4.9&nbsp;&nbsp;</span>Create Embedding Matrix</a></span></li><li><span><a href=\"#Load-the-obtained-Embedding-matrix-into-a-Keras-Layer\" data-toc-modified-id=\"Load-the-obtained-Embedding-matrix-into-a-Keras-Layer-4.10\"><span class=\"toc-item-num\">4.10&nbsp;&nbsp;</span>Load the obtained Embedding matrix into a Keras Layer</a></span></li></ul></li><li><span><a href=\"#Modelling\" data-toc-modified-id=\"Modelling-5\"><span class=\"toc-item-num\">5&nbsp;&nbsp;</span>Modelling</a></span><ul class=\"toc-item\"><li><span><a href=\"#Baseline-model\" data-toc-modified-id=\"Baseline-model-5.1\"><span class=\"toc-item-num\">5.1&nbsp;&nbsp;</span>Baseline model</a></span><ul class=\"toc-item\"><li><span><a href=\"#Define-a-1D-Convolutional-Neural-Network\" data-toc-modified-id=\"Define-a-1D-Convolutional-Neural-Network-5.1.1\"><span class=\"toc-item-num\">5.1.1&nbsp;&nbsp;</span>Define a 1D Convolutional Neural Network</a></span></li><li><span><a href=\"#Compile-the-model\" data-toc-modified-id=\"Compile-the-model-5.1.2\"><span class=\"toc-item-num\">5.1.2&nbsp;&nbsp;</span>Compile the model</a></span></li><li><span><a href=\"#Fit-the-model\" data-toc-modified-id=\"Fit-the-model-5.1.3\"><span class=\"toc-item-num\">5.1.3&nbsp;&nbsp;</span>Fit the model</a></span></li><li><span><a href=\"#Review-progress-of-loss-and-accuracy\" data-toc-modified-id=\"Review-progress-of-loss-and-accuracy-5.1.4\"><span class=\"toc-item-num\">5.1.4&nbsp;&nbsp;</span>Review progress of loss and accuracy</a></span></li></ul></li><li><span><a href=\"#Using-Adam-optimizer\" data-toc-modified-id=\"Using-Adam-optimizer-5.2\"><span class=\"toc-item-num\">5.2&nbsp;&nbsp;</span>Using Adam optimizer</a></span></li><li><span><a href=\"#Introducing-Dropout\" data-toc-modified-id=\"Introducing-Dropout-5.3\"><span class=\"toc-item-num\">5.3&nbsp;&nbsp;</span>Introducing Dropout</a></span></li><li><span><a href=\"#Using-callbacks\" data-toc-modified-id=\"Using-callbacks-5.4\"><span class=\"toc-item-num\">5.4&nbsp;&nbsp;</span>Using callbacks</a></span></li></ul></li><li><span><a href=\"#Evaluate-model-on-train-data\" data-toc-modified-id=\"Evaluate-model-on-train-data-6\"><span class=\"toc-item-num\">6&nbsp;&nbsp;</span>Evaluate model on train data</a></span></li><li><span><a href=\"#Make-predictions-on-test-data\" data-toc-modified-id=\"Make-predictions-on-test-data-7\"><span class=\"toc-item-num\">7&nbsp;&nbsp;</span>Make predictions on test data</a></span></li><li><span><a href=\"#Create-submission-file\" data-toc-modified-id=\"Create-submission-file-8\"><span class=\"toc-item-num\">8&nbsp;&nbsp;</span>Create submission file</a></span></li><li><span><a href=\"#Using-LSTM\" data-toc-modified-id=\"Using-LSTM-9\"><span class=\"toc-item-num\">9&nbsp;&nbsp;</span>Using LSTM</a></span></li></ul></div>"
   ]
  },
  {
   "cell_type": "markdown",
   "metadata": {},
   "source": [
    "# Problem Defintion:"
   ]
  },
  {
   "cell_type": "markdown",
   "metadata": {},
   "source": [
    "Given a negative comment (in English), we must be able to classify its level of toxicity as one of/combination of ,\n",
    "\n",
    "    * toxic\n",
    "    * severe_toxic\n",
    "    * obscene\n",
    "    * threat\n",
    "    * insult\n",
    "    * identity_hate\n",
    "  or none.\n",
    "\n",
    "The dataset of comments has been taken from Wikipedia’s talk page edits.\n",
    "\n",
    "* This is a **multilabel problem** with the level of toxicity of the comment being any of the above.\n",
    "    \n",
    "* So the output for each comment will be a six dimensional vector."
   ]
  },
  {
   "cell_type": "markdown",
   "metadata": {},
   "source": [
    "#  Data\n",
    "The data is available on kaggle at\n",
    "\n",
    "https://www.kaggle.com/c/jigsaw-toxic-comment-classification-challenge/data\n",
    "\n",
    "The data comprises of\n",
    "\n",
    "* 159571 comments for train data and\n",
    "* 153164 test comments"
   ]
  },
  {
   "cell_type": "markdown",
   "metadata": {},
   "source": [
    "# Evaluation"
   ]
  },
  {
   "cell_type": "markdown",
   "metadata": {},
   "source": [
    "* The model is evaluated on the mean column-wise ROC AUC. \n",
    "* In other words, the score is the average of the individual AUCs of each predicted column."
   ]
  },
  {
   "cell_type": "markdown",
   "metadata": {},
   "source": [
    "# Dealing with the data"
   ]
  },
  {
   "cell_type": "markdown",
   "metadata": {},
   "source": [
    "## Making necessary imports and installations"
   ]
  },
  {
   "cell_type": "code",
   "execution_count": 20,
   "metadata": {},
   "outputs": [],
   "source": [
    "import os\n",
    "import sys\n",
    "import sklearn\n",
    "import pandas as pd\n",
    "import numpy as np\n",
    "import tensorflow as tf\n",
    "import matplotlib.pyplot as plt\n",
    "%matplotlib inline\n",
    "\n",
    "from sklearn.metrics import roc_auc_score\n",
    "from tensorflow import keras\n",
    "from tensorflow.keras.layers import Dense,Input,MaxPooling1D,GlobalMaxPooling1D,Conv1D,Embedding\n",
    "from tensorflow.keras.layers import LSTM,Bidirectional\n",
    "from tensorflow.keras.models import Model\n",
    "from tensorflow.keras.preprocessing.text import Tokenizer\n",
    "from tensorflow.keras.preprocessing.sequence import pad_sequences"
   ]
  },
  {
   "cell_type": "markdown",
   "metadata": {},
   "source": [
    "## Exploring the data"
   ]
  },
  {
   "cell_type": "code",
   "execution_count": 2,
   "metadata": {},
   "outputs": [
    {
     "data": {
      "text/html": [
       "<div>\n",
       "<style scoped>\n",
       "    .dataframe tbody tr th:only-of-type {\n",
       "        vertical-align: middle;\n",
       "    }\n",
       "\n",
       "    .dataframe tbody tr th {\n",
       "        vertical-align: top;\n",
       "    }\n",
       "\n",
       "    .dataframe thead th {\n",
       "        text-align: right;\n",
       "    }\n",
       "</style>\n",
       "<table border=\"1\" class=\"dataframe\">\n",
       "  <thead>\n",
       "    <tr style=\"text-align: right;\">\n",
       "      <th></th>\n",
       "      <th>id</th>\n",
       "      <th>comment_text</th>\n",
       "      <th>toxic</th>\n",
       "      <th>severe_toxic</th>\n",
       "      <th>obscene</th>\n",
       "      <th>threat</th>\n",
       "      <th>insult</th>\n",
       "      <th>identity_hate</th>\n",
       "    </tr>\n",
       "  </thead>\n",
       "  <tbody>\n",
       "    <tr>\n",
       "      <th>0</th>\n",
       "      <td>0000997932d777bf</td>\n",
       "      <td>Explanation\\nWhy the edits made under my usern...</td>\n",
       "      <td>0</td>\n",
       "      <td>0</td>\n",
       "      <td>0</td>\n",
       "      <td>0</td>\n",
       "      <td>0</td>\n",
       "      <td>0</td>\n",
       "    </tr>\n",
       "    <tr>\n",
       "      <th>1</th>\n",
       "      <td>000103f0d9cfb60f</td>\n",
       "      <td>D'aww! He matches this background colour I'm s...</td>\n",
       "      <td>0</td>\n",
       "      <td>0</td>\n",
       "      <td>0</td>\n",
       "      <td>0</td>\n",
       "      <td>0</td>\n",
       "      <td>0</td>\n",
       "    </tr>\n",
       "    <tr>\n",
       "      <th>2</th>\n",
       "      <td>000113f07ec002fd</td>\n",
       "      <td>Hey man, I'm really not trying to edit war. It...</td>\n",
       "      <td>0</td>\n",
       "      <td>0</td>\n",
       "      <td>0</td>\n",
       "      <td>0</td>\n",
       "      <td>0</td>\n",
       "      <td>0</td>\n",
       "    </tr>\n",
       "    <tr>\n",
       "      <th>3</th>\n",
       "      <td>0001b41b1c6bb37e</td>\n",
       "      <td>\"\\nMore\\nI can't make any real suggestions on ...</td>\n",
       "      <td>0</td>\n",
       "      <td>0</td>\n",
       "      <td>0</td>\n",
       "      <td>0</td>\n",
       "      <td>0</td>\n",
       "      <td>0</td>\n",
       "    </tr>\n",
       "    <tr>\n",
       "      <th>4</th>\n",
       "      <td>0001d958c54c6e35</td>\n",
       "      <td>You, sir, are my hero. Any chance you remember...</td>\n",
       "      <td>0</td>\n",
       "      <td>0</td>\n",
       "      <td>0</td>\n",
       "      <td>0</td>\n",
       "      <td>0</td>\n",
       "      <td>0</td>\n",
       "    </tr>\n",
       "    <tr>\n",
       "      <th>...</th>\n",
       "      <td>...</td>\n",
       "      <td>...</td>\n",
       "      <td>...</td>\n",
       "      <td>...</td>\n",
       "      <td>...</td>\n",
       "      <td>...</td>\n",
       "      <td>...</td>\n",
       "      <td>...</td>\n",
       "    </tr>\n",
       "    <tr>\n",
       "      <th>159566</th>\n",
       "      <td>ffe987279560d7ff</td>\n",
       "      <td>\":::::And for the second time of asking, when ...</td>\n",
       "      <td>0</td>\n",
       "      <td>0</td>\n",
       "      <td>0</td>\n",
       "      <td>0</td>\n",
       "      <td>0</td>\n",
       "      <td>0</td>\n",
       "    </tr>\n",
       "    <tr>\n",
       "      <th>159567</th>\n",
       "      <td>ffea4adeee384e90</td>\n",
       "      <td>You should be ashamed of yourself \\n\\nThat is ...</td>\n",
       "      <td>0</td>\n",
       "      <td>0</td>\n",
       "      <td>0</td>\n",
       "      <td>0</td>\n",
       "      <td>0</td>\n",
       "      <td>0</td>\n",
       "    </tr>\n",
       "    <tr>\n",
       "      <th>159568</th>\n",
       "      <td>ffee36eab5c267c9</td>\n",
       "      <td>Spitzer \\n\\nUmm, theres no actual article for ...</td>\n",
       "      <td>0</td>\n",
       "      <td>0</td>\n",
       "      <td>0</td>\n",
       "      <td>0</td>\n",
       "      <td>0</td>\n",
       "      <td>0</td>\n",
       "    </tr>\n",
       "    <tr>\n",
       "      <th>159569</th>\n",
       "      <td>fff125370e4aaaf3</td>\n",
       "      <td>And it looks like it was actually you who put ...</td>\n",
       "      <td>0</td>\n",
       "      <td>0</td>\n",
       "      <td>0</td>\n",
       "      <td>0</td>\n",
       "      <td>0</td>\n",
       "      <td>0</td>\n",
       "    </tr>\n",
       "    <tr>\n",
       "      <th>159570</th>\n",
       "      <td>fff46fc426af1f9a</td>\n",
       "      <td>\"\\nAnd ... I really don't think you understand...</td>\n",
       "      <td>0</td>\n",
       "      <td>0</td>\n",
       "      <td>0</td>\n",
       "      <td>0</td>\n",
       "      <td>0</td>\n",
       "      <td>0</td>\n",
       "    </tr>\n",
       "  </tbody>\n",
       "</table>\n",
       "<p>159571 rows × 8 columns</p>\n",
       "</div>"
      ],
      "text/plain": [
       "                      id                                       comment_text  \\\n",
       "0       0000997932d777bf  Explanation\\nWhy the edits made under my usern...   \n",
       "1       000103f0d9cfb60f  D'aww! He matches this background colour I'm s...   \n",
       "2       000113f07ec002fd  Hey man, I'm really not trying to edit war. It...   \n",
       "3       0001b41b1c6bb37e  \"\\nMore\\nI can't make any real suggestions on ...   \n",
       "4       0001d958c54c6e35  You, sir, are my hero. Any chance you remember...   \n",
       "...                  ...                                                ...   \n",
       "159566  ffe987279560d7ff  \":::::And for the second time of asking, when ...   \n",
       "159567  ffea4adeee384e90  You should be ashamed of yourself \\n\\nThat is ...   \n",
       "159568  ffee36eab5c267c9  Spitzer \\n\\nUmm, theres no actual article for ...   \n",
       "159569  fff125370e4aaaf3  And it looks like it was actually you who put ...   \n",
       "159570  fff46fc426af1f9a  \"\\nAnd ... I really don't think you understand...   \n",
       "\n",
       "        toxic  severe_toxic  obscene  threat  insult  identity_hate  \n",
       "0           0             0        0       0       0              0  \n",
       "1           0             0        0       0       0              0  \n",
       "2           0             0        0       0       0              0  \n",
       "3           0             0        0       0       0              0  \n",
       "4           0             0        0       0       0              0  \n",
       "...       ...           ...      ...     ...     ...            ...  \n",
       "159566      0             0        0       0       0              0  \n",
       "159567      0             0        0       0       0              0  \n",
       "159568      0             0        0       0       0              0  \n",
       "159569      0             0        0       0       0              0  \n",
       "159570      0             0        0       0       0              0  \n",
       "\n",
       "[159571 rows x 8 columns]"
      ]
     },
     "execution_count": 2,
     "metadata": {},
     "output_type": "execute_result"
    }
   ],
   "source": [
    "train=pd.read_csv(\"train.csv\",low_memory=False)\n",
    "train"
   ]
  },
  {
   "cell_type": "code",
   "execution_count": 3,
   "metadata": {},
   "outputs": [
    {
     "data": {
      "text/html": [
       "<div>\n",
       "<style scoped>\n",
       "    .dataframe tbody tr th:only-of-type {\n",
       "        vertical-align: middle;\n",
       "    }\n",
       "\n",
       "    .dataframe tbody tr th {\n",
       "        vertical-align: top;\n",
       "    }\n",
       "\n",
       "    .dataframe thead th {\n",
       "        text-align: right;\n",
       "    }\n",
       "</style>\n",
       "<table border=\"1\" class=\"dataframe\">\n",
       "  <thead>\n",
       "    <tr style=\"text-align: right;\">\n",
       "      <th></th>\n",
       "      <th>id</th>\n",
       "      <th>comment_text</th>\n",
       "      <th>toxic</th>\n",
       "      <th>severe_toxic</th>\n",
       "      <th>obscene</th>\n",
       "      <th>threat</th>\n",
       "      <th>insult</th>\n",
       "      <th>identity_hate</th>\n",
       "    </tr>\n",
       "  </thead>\n",
       "  <tbody>\n",
       "    <tr>\n",
       "      <th>0</th>\n",
       "      <td>0000997932d777bf</td>\n",
       "      <td>Explanation\\nWhy the edits made under my usern...</td>\n",
       "      <td>0</td>\n",
       "      <td>0</td>\n",
       "      <td>0</td>\n",
       "      <td>0</td>\n",
       "      <td>0</td>\n",
       "      <td>0</td>\n",
       "    </tr>\n",
       "    <tr>\n",
       "      <th>1</th>\n",
       "      <td>000103f0d9cfb60f</td>\n",
       "      <td>D'aww! He matches this background colour I'm s...</td>\n",
       "      <td>0</td>\n",
       "      <td>0</td>\n",
       "      <td>0</td>\n",
       "      <td>0</td>\n",
       "      <td>0</td>\n",
       "      <td>0</td>\n",
       "    </tr>\n",
       "    <tr>\n",
       "      <th>2</th>\n",
       "      <td>000113f07ec002fd</td>\n",
       "      <td>Hey man, I'm really not trying to edit war. It...</td>\n",
       "      <td>0</td>\n",
       "      <td>0</td>\n",
       "      <td>0</td>\n",
       "      <td>0</td>\n",
       "      <td>0</td>\n",
       "      <td>0</td>\n",
       "    </tr>\n",
       "    <tr>\n",
       "      <th>3</th>\n",
       "      <td>0001b41b1c6bb37e</td>\n",
       "      <td>\"\\nMore\\nI can't make any real suggestions on ...</td>\n",
       "      <td>0</td>\n",
       "      <td>0</td>\n",
       "      <td>0</td>\n",
       "      <td>0</td>\n",
       "      <td>0</td>\n",
       "      <td>0</td>\n",
       "    </tr>\n",
       "    <tr>\n",
       "      <th>4</th>\n",
       "      <td>0001d958c54c6e35</td>\n",
       "      <td>You, sir, are my hero. Any chance you remember...</td>\n",
       "      <td>0</td>\n",
       "      <td>0</td>\n",
       "      <td>0</td>\n",
       "      <td>0</td>\n",
       "      <td>0</td>\n",
       "      <td>0</td>\n",
       "    </tr>\n",
       "    <tr>\n",
       "      <th>5</th>\n",
       "      <td>00025465d4725e87</td>\n",
       "      <td>\"\\n\\nCongratulations from me as well, use the ...</td>\n",
       "      <td>0</td>\n",
       "      <td>0</td>\n",
       "      <td>0</td>\n",
       "      <td>0</td>\n",
       "      <td>0</td>\n",
       "      <td>0</td>\n",
       "    </tr>\n",
       "    <tr>\n",
       "      <th>6</th>\n",
       "      <td>0002bcb3da6cb337</td>\n",
       "      <td>COCKSUCKER BEFORE YOU PISS AROUND ON MY WORK</td>\n",
       "      <td>1</td>\n",
       "      <td>1</td>\n",
       "      <td>1</td>\n",
       "      <td>0</td>\n",
       "      <td>1</td>\n",
       "      <td>0</td>\n",
       "    </tr>\n",
       "    <tr>\n",
       "      <th>7</th>\n",
       "      <td>00031b1e95af7921</td>\n",
       "      <td>Your vandalism to the Matt Shirvington article...</td>\n",
       "      <td>0</td>\n",
       "      <td>0</td>\n",
       "      <td>0</td>\n",
       "      <td>0</td>\n",
       "      <td>0</td>\n",
       "      <td>0</td>\n",
       "    </tr>\n",
       "    <tr>\n",
       "      <th>8</th>\n",
       "      <td>00037261f536c51d</td>\n",
       "      <td>Sorry if the word 'nonsense' was offensive to ...</td>\n",
       "      <td>0</td>\n",
       "      <td>0</td>\n",
       "      <td>0</td>\n",
       "      <td>0</td>\n",
       "      <td>0</td>\n",
       "      <td>0</td>\n",
       "    </tr>\n",
       "    <tr>\n",
       "      <th>9</th>\n",
       "      <td>00040093b2687caa</td>\n",
       "      <td>alignment on this subject and which are contra...</td>\n",
       "      <td>0</td>\n",
       "      <td>0</td>\n",
       "      <td>0</td>\n",
       "      <td>0</td>\n",
       "      <td>0</td>\n",
       "      <td>0</td>\n",
       "    </tr>\n",
       "    <tr>\n",
       "      <th>10</th>\n",
       "      <td>0005300084f90edc</td>\n",
       "      <td>\"\\nFair use rationale for Image:Wonju.jpg\\n\\nT...</td>\n",
       "      <td>0</td>\n",
       "      <td>0</td>\n",
       "      <td>0</td>\n",
       "      <td>0</td>\n",
       "      <td>0</td>\n",
       "      <td>0</td>\n",
       "    </tr>\n",
       "    <tr>\n",
       "      <th>11</th>\n",
       "      <td>00054a5e18b50dd4</td>\n",
       "      <td>bbq \\n\\nbe a man and lets discuss it-maybe ove...</td>\n",
       "      <td>0</td>\n",
       "      <td>0</td>\n",
       "      <td>0</td>\n",
       "      <td>0</td>\n",
       "      <td>0</td>\n",
       "      <td>0</td>\n",
       "    </tr>\n",
       "    <tr>\n",
       "      <th>12</th>\n",
       "      <td>0005c987bdfc9d4b</td>\n",
       "      <td>Hey... what is it..\\n@ | talk .\\nWhat is it......</td>\n",
       "      <td>1</td>\n",
       "      <td>0</td>\n",
       "      <td>0</td>\n",
       "      <td>0</td>\n",
       "      <td>0</td>\n",
       "      <td>0</td>\n",
       "    </tr>\n",
       "    <tr>\n",
       "      <th>13</th>\n",
       "      <td>0006f16e4e9f292e</td>\n",
       "      <td>Before you start throwing accusations and warn...</td>\n",
       "      <td>0</td>\n",
       "      <td>0</td>\n",
       "      <td>0</td>\n",
       "      <td>0</td>\n",
       "      <td>0</td>\n",
       "      <td>0</td>\n",
       "    </tr>\n",
       "    <tr>\n",
       "      <th>14</th>\n",
       "      <td>00070ef96486d6f9</td>\n",
       "      <td>Oh, and the girl above started her arguments w...</td>\n",
       "      <td>0</td>\n",
       "      <td>0</td>\n",
       "      <td>0</td>\n",
       "      <td>0</td>\n",
       "      <td>0</td>\n",
       "      <td>0</td>\n",
       "    </tr>\n",
       "    <tr>\n",
       "      <th>15</th>\n",
       "      <td>00078f8ce7eb276d</td>\n",
       "      <td>\"\\n\\nJuelz Santanas Age\\n\\nIn 2002, Juelz Sant...</td>\n",
       "      <td>0</td>\n",
       "      <td>0</td>\n",
       "      <td>0</td>\n",
       "      <td>0</td>\n",
       "      <td>0</td>\n",
       "      <td>0</td>\n",
       "    </tr>\n",
       "    <tr>\n",
       "      <th>16</th>\n",
       "      <td>0007e25b2121310b</td>\n",
       "      <td>Bye! \\n\\nDon't look, come or think of comming ...</td>\n",
       "      <td>1</td>\n",
       "      <td>0</td>\n",
       "      <td>0</td>\n",
       "      <td>0</td>\n",
       "      <td>0</td>\n",
       "      <td>0</td>\n",
       "    </tr>\n",
       "    <tr>\n",
       "      <th>17</th>\n",
       "      <td>000897889268bc93</td>\n",
       "      <td>REDIRECT Talk:Voydan Pop Georgiev- Chernodrinski</td>\n",
       "      <td>0</td>\n",
       "      <td>0</td>\n",
       "      <td>0</td>\n",
       "      <td>0</td>\n",
       "      <td>0</td>\n",
       "      <td>0</td>\n",
       "    </tr>\n",
       "    <tr>\n",
       "      <th>18</th>\n",
       "      <td>0009801bd85e5806</td>\n",
       "      <td>The Mitsurugi point made no sense - why not ar...</td>\n",
       "      <td>0</td>\n",
       "      <td>0</td>\n",
       "      <td>0</td>\n",
       "      <td>0</td>\n",
       "      <td>0</td>\n",
       "      <td>0</td>\n",
       "    </tr>\n",
       "    <tr>\n",
       "      <th>19</th>\n",
       "      <td>0009eaea3325de8c</td>\n",
       "      <td>Don't mean to bother you \\n\\nI see that you're...</td>\n",
       "      <td>0</td>\n",
       "      <td>0</td>\n",
       "      <td>0</td>\n",
       "      <td>0</td>\n",
       "      <td>0</td>\n",
       "      <td>0</td>\n",
       "    </tr>\n",
       "    <tr>\n",
       "      <th>20</th>\n",
       "      <td>000b08c464718505</td>\n",
       "      <td>\"\\n\\n Regarding your recent edits \\n\\nOnce aga...</td>\n",
       "      <td>0</td>\n",
       "      <td>0</td>\n",
       "      <td>0</td>\n",
       "      <td>0</td>\n",
       "      <td>0</td>\n",
       "      <td>0</td>\n",
       "    </tr>\n",
       "    <tr>\n",
       "      <th>21</th>\n",
       "      <td>000bfd0867774845</td>\n",
       "      <td>\"\\nGood to know. About me, yeah, I'm studying ...</td>\n",
       "      <td>0</td>\n",
       "      <td>0</td>\n",
       "      <td>0</td>\n",
       "      <td>0</td>\n",
       "      <td>0</td>\n",
       "      <td>0</td>\n",
       "    </tr>\n",
       "    <tr>\n",
       "      <th>22</th>\n",
       "      <td>000c0dfd995809fa</td>\n",
       "      <td>\"\\n\\n Snowflakes are NOT always symmetrical! \\...</td>\n",
       "      <td>0</td>\n",
       "      <td>0</td>\n",
       "      <td>0</td>\n",
       "      <td>0</td>\n",
       "      <td>0</td>\n",
       "      <td>0</td>\n",
       "    </tr>\n",
       "    <tr>\n",
       "      <th>23</th>\n",
       "      <td>000c6a3f0cd3ba8e</td>\n",
       "      <td>\"\\n\\n The Signpost: 24 September 2012 \\n\\n Rea...</td>\n",
       "      <td>0</td>\n",
       "      <td>0</td>\n",
       "      <td>0</td>\n",
       "      <td>0</td>\n",
       "      <td>0</td>\n",
       "      <td>0</td>\n",
       "    </tr>\n",
       "    <tr>\n",
       "      <th>24</th>\n",
       "      <td>000cfee90f50d471</td>\n",
       "      <td>\"\\n\\nRe-considering 1st paragraph edit?\\nI don...</td>\n",
       "      <td>0</td>\n",
       "      <td>0</td>\n",
       "      <td>0</td>\n",
       "      <td>0</td>\n",
       "      <td>0</td>\n",
       "      <td>0</td>\n",
       "    </tr>\n",
       "    <tr>\n",
       "      <th>25</th>\n",
       "      <td>000eefc67a2c930f</td>\n",
       "      <td>Radial symmetry \\n\\nSeveral now extinct lineag...</td>\n",
       "      <td>0</td>\n",
       "      <td>0</td>\n",
       "      <td>0</td>\n",
       "      <td>0</td>\n",
       "      <td>0</td>\n",
       "      <td>0</td>\n",
       "    </tr>\n",
       "    <tr>\n",
       "      <th>26</th>\n",
       "      <td>000f35deef84dc4a</td>\n",
       "      <td>There's no need to apologize. A Wikipedia arti...</td>\n",
       "      <td>0</td>\n",
       "      <td>0</td>\n",
       "      <td>0</td>\n",
       "      <td>0</td>\n",
       "      <td>0</td>\n",
       "      <td>0</td>\n",
       "    </tr>\n",
       "    <tr>\n",
       "      <th>27</th>\n",
       "      <td>000ffab30195c5e1</td>\n",
       "      <td>Yes, because the mother of the child in the ca...</td>\n",
       "      <td>0</td>\n",
       "      <td>0</td>\n",
       "      <td>0</td>\n",
       "      <td>0</td>\n",
       "      <td>0</td>\n",
       "      <td>0</td>\n",
       "    </tr>\n",
       "    <tr>\n",
       "      <th>28</th>\n",
       "      <td>0010307a3a50a353</td>\n",
       "      <td>\"\\nOk. But it will take a bit of work but I ca...</td>\n",
       "      <td>0</td>\n",
       "      <td>0</td>\n",
       "      <td>0</td>\n",
       "      <td>0</td>\n",
       "      <td>0</td>\n",
       "      <td>0</td>\n",
       "    </tr>\n",
       "    <tr>\n",
       "      <th>29</th>\n",
       "      <td>0010833a96e1f886</td>\n",
       "      <td>\"== A barnstar for you! ==\\n\\n  The Real Life ...</td>\n",
       "      <td>0</td>\n",
       "      <td>0</td>\n",
       "      <td>0</td>\n",
       "      <td>0</td>\n",
       "      <td>0</td>\n",
       "      <td>0</td>\n",
       "    </tr>\n",
       "  </tbody>\n",
       "</table>\n",
       "</div>"
      ],
      "text/plain": [
       "                  id                                       comment_text  \\\n",
       "0   0000997932d777bf  Explanation\\nWhy the edits made under my usern...   \n",
       "1   000103f0d9cfb60f  D'aww! He matches this background colour I'm s...   \n",
       "2   000113f07ec002fd  Hey man, I'm really not trying to edit war. It...   \n",
       "3   0001b41b1c6bb37e  \"\\nMore\\nI can't make any real suggestions on ...   \n",
       "4   0001d958c54c6e35  You, sir, are my hero. Any chance you remember...   \n",
       "5   00025465d4725e87  \"\\n\\nCongratulations from me as well, use the ...   \n",
       "6   0002bcb3da6cb337       COCKSUCKER BEFORE YOU PISS AROUND ON MY WORK   \n",
       "7   00031b1e95af7921  Your vandalism to the Matt Shirvington article...   \n",
       "8   00037261f536c51d  Sorry if the word 'nonsense' was offensive to ...   \n",
       "9   00040093b2687caa  alignment on this subject and which are contra...   \n",
       "10  0005300084f90edc  \"\\nFair use rationale for Image:Wonju.jpg\\n\\nT...   \n",
       "11  00054a5e18b50dd4  bbq \\n\\nbe a man and lets discuss it-maybe ove...   \n",
       "12  0005c987bdfc9d4b  Hey... what is it..\\n@ | talk .\\nWhat is it......   \n",
       "13  0006f16e4e9f292e  Before you start throwing accusations and warn...   \n",
       "14  00070ef96486d6f9  Oh, and the girl above started her arguments w...   \n",
       "15  00078f8ce7eb276d  \"\\n\\nJuelz Santanas Age\\n\\nIn 2002, Juelz Sant...   \n",
       "16  0007e25b2121310b  Bye! \\n\\nDon't look, come or think of comming ...   \n",
       "17  000897889268bc93   REDIRECT Talk:Voydan Pop Georgiev- Chernodrinski   \n",
       "18  0009801bd85e5806  The Mitsurugi point made no sense - why not ar...   \n",
       "19  0009eaea3325de8c  Don't mean to bother you \\n\\nI see that you're...   \n",
       "20  000b08c464718505  \"\\n\\n Regarding your recent edits \\n\\nOnce aga...   \n",
       "21  000bfd0867774845  \"\\nGood to know. About me, yeah, I'm studying ...   \n",
       "22  000c0dfd995809fa  \"\\n\\n Snowflakes are NOT always symmetrical! \\...   \n",
       "23  000c6a3f0cd3ba8e  \"\\n\\n The Signpost: 24 September 2012 \\n\\n Rea...   \n",
       "24  000cfee90f50d471  \"\\n\\nRe-considering 1st paragraph edit?\\nI don...   \n",
       "25  000eefc67a2c930f  Radial symmetry \\n\\nSeveral now extinct lineag...   \n",
       "26  000f35deef84dc4a  There's no need to apologize. A Wikipedia arti...   \n",
       "27  000ffab30195c5e1  Yes, because the mother of the child in the ca...   \n",
       "28  0010307a3a50a353  \"\\nOk. But it will take a bit of work but I ca...   \n",
       "29  0010833a96e1f886  \"== A barnstar for you! ==\\n\\n  The Real Life ...   \n",
       "\n",
       "    toxic  severe_toxic  obscene  threat  insult  identity_hate  \n",
       "0       0             0        0       0       0              0  \n",
       "1       0             0        0       0       0              0  \n",
       "2       0             0        0       0       0              0  \n",
       "3       0             0        0       0       0              0  \n",
       "4       0             0        0       0       0              0  \n",
       "5       0             0        0       0       0              0  \n",
       "6       1             1        1       0       1              0  \n",
       "7       0             0        0       0       0              0  \n",
       "8       0             0        0       0       0              0  \n",
       "9       0             0        0       0       0              0  \n",
       "10      0             0        0       0       0              0  \n",
       "11      0             0        0       0       0              0  \n",
       "12      1             0        0       0       0              0  \n",
       "13      0             0        0       0       0              0  \n",
       "14      0             0        0       0       0              0  \n",
       "15      0             0        0       0       0              0  \n",
       "16      1             0        0       0       0              0  \n",
       "17      0             0        0       0       0              0  \n",
       "18      0             0        0       0       0              0  \n",
       "19      0             0        0       0       0              0  \n",
       "20      0             0        0       0       0              0  \n",
       "21      0             0        0       0       0              0  \n",
       "22      0             0        0       0       0              0  \n",
       "23      0             0        0       0       0              0  \n",
       "24      0             0        0       0       0              0  \n",
       "25      0             0        0       0       0              0  \n",
       "26      0             0        0       0       0              0  \n",
       "27      0             0        0       0       0              0  \n",
       "28      0             0        0       0       0              0  \n",
       "29      0             0        0       0       0              0  "
      ]
     },
     "execution_count": 3,
     "metadata": {},
     "output_type": "execute_result"
    }
   ],
   "source": [
    "train.head(30)"
   ]
  },
  {
   "cell_type": "code",
   "execution_count": 4,
   "metadata": {},
   "outputs": [
    {
     "data": {
      "text/html": [
       "<div>\n",
       "<style scoped>\n",
       "    .dataframe tbody tr th:only-of-type {\n",
       "        vertical-align: middle;\n",
       "    }\n",
       "\n",
       "    .dataframe tbody tr th {\n",
       "        vertical-align: top;\n",
       "    }\n",
       "\n",
       "    .dataframe thead th {\n",
       "        text-align: right;\n",
       "    }\n",
       "</style>\n",
       "<table border=\"1\" class=\"dataframe\">\n",
       "  <thead>\n",
       "    <tr style=\"text-align: right;\">\n",
       "      <th></th>\n",
       "      <th>id</th>\n",
       "      <th>comment_text</th>\n",
       "    </tr>\n",
       "  </thead>\n",
       "  <tbody>\n",
       "    <tr>\n",
       "      <th>0</th>\n",
       "      <td>00001cee341fdb12</td>\n",
       "      <td>Yo bitch Ja Rule is more succesful then you'll...</td>\n",
       "    </tr>\n",
       "    <tr>\n",
       "      <th>1</th>\n",
       "      <td>0000247867823ef7</td>\n",
       "      <td>== From RfC == \\n\\n The title is fine as it is...</td>\n",
       "    </tr>\n",
       "    <tr>\n",
       "      <th>2</th>\n",
       "      <td>00013b17ad220c46</td>\n",
       "      <td>\" \\n\\n == Sources == \\n\\n * Zawe Ashton on Lap...</td>\n",
       "    </tr>\n",
       "    <tr>\n",
       "      <th>3</th>\n",
       "      <td>00017563c3f7919a</td>\n",
       "      <td>:If you have a look back at the source, the in...</td>\n",
       "    </tr>\n",
       "    <tr>\n",
       "      <th>4</th>\n",
       "      <td>00017695ad8997eb</td>\n",
       "      <td>I don't anonymously edit articles at all.</td>\n",
       "    </tr>\n",
       "    <tr>\n",
       "      <th>...</th>\n",
       "      <td>...</td>\n",
       "      <td>...</td>\n",
       "    </tr>\n",
       "    <tr>\n",
       "      <th>153159</th>\n",
       "      <td>fffcd0960ee309b5</td>\n",
       "      <td>. \\n i totally agree, this stuff is nothing bu...</td>\n",
       "    </tr>\n",
       "    <tr>\n",
       "      <th>153160</th>\n",
       "      <td>fffd7a9a6eb32c16</td>\n",
       "      <td>== Throw from out field to home plate. == \\n\\n...</td>\n",
       "    </tr>\n",
       "    <tr>\n",
       "      <th>153161</th>\n",
       "      <td>fffda9e8d6fafa9e</td>\n",
       "      <td>\" \\n\\n == Okinotorishima categories == \\n\\n I ...</td>\n",
       "    </tr>\n",
       "    <tr>\n",
       "      <th>153162</th>\n",
       "      <td>fffe8f1340a79fc2</td>\n",
       "      <td>\" \\n\\n == \"\"One of the founding nations of the...</td>\n",
       "    </tr>\n",
       "    <tr>\n",
       "      <th>153163</th>\n",
       "      <td>ffffce3fb183ee80</td>\n",
       "      <td>\" \\n :::Stop already. Your bullshit is not wel...</td>\n",
       "    </tr>\n",
       "  </tbody>\n",
       "</table>\n",
       "<p>153164 rows × 2 columns</p>\n",
       "</div>"
      ],
      "text/plain": [
       "                      id                                       comment_text\n",
       "0       00001cee341fdb12  Yo bitch Ja Rule is more succesful then you'll...\n",
       "1       0000247867823ef7  == From RfC == \\n\\n The title is fine as it is...\n",
       "2       00013b17ad220c46  \" \\n\\n == Sources == \\n\\n * Zawe Ashton on Lap...\n",
       "3       00017563c3f7919a  :If you have a look back at the source, the in...\n",
       "4       00017695ad8997eb          I don't anonymously edit articles at all.\n",
       "...                  ...                                                ...\n",
       "153159  fffcd0960ee309b5  . \\n i totally agree, this stuff is nothing bu...\n",
       "153160  fffd7a9a6eb32c16  == Throw from out field to home plate. == \\n\\n...\n",
       "153161  fffda9e8d6fafa9e  \" \\n\\n == Okinotorishima categories == \\n\\n I ...\n",
       "153162  fffe8f1340a79fc2  \" \\n\\n == \"\"One of the founding nations of the...\n",
       "153163  ffffce3fb183ee80  \" \\n :::Stop already. Your bullshit is not wel...\n",
       "\n",
       "[153164 rows x 2 columns]"
      ]
     },
     "execution_count": 4,
     "metadata": {},
     "output_type": "execute_result"
    }
   ],
   "source": [
    "test=pd.read_csv(\"test.csv\",low_memory=False)\n",
    "test"
   ]
  },
  {
   "cell_type": "code",
   "execution_count": 5,
   "metadata": {},
   "outputs": [
    {
     "name": "stdout",
     "output_type": "stream",
     "text": [
      "Explanation\n",
      "Why the edits made under my username Hardcore Metallica Fan were reverted? They weren't vandalisms, just closure on some GAs after I voted at New York Dolls FAC. And please don't remove the template from the talk page since I'm retired now.89.205.38.27\n"
     ]
    }
   ],
   "source": [
    "print(train['comment_text'][0])"
   ]
  },
  {
   "cell_type": "markdown",
   "metadata": {},
   "source": [
    "## Contribution of each category"
   ]
  },
  {
   "cell_type": "code",
   "execution_count": 6,
   "metadata": {},
   "outputs": [],
   "source": [
    "toxicity = ['toxic','severe_toxic','obscene','threat','insult','identity_hate']"
   ]
  },
  {
   "cell_type": "code",
   "execution_count": 7,
   "metadata": {},
   "outputs": [
    {
     "data": {
      "image/png": "[encoded data removed]",
      "text/plain": [
       "<Figure size 432x288 with 1 Axes>"
      ]
     },
     "metadata": {
      "needs_background": "light"
     },
     "output_type": "display_data"
    }
   ],
   "source": [
    "contrib = {}\n",
    "for tox in toxicity:\n",
    "    contrib[tox] = train[tox].value_counts()[1]\n",
    "\n",
    "plt.bar(contrib.keys(), contrib.values())\n",
    "plt.show()"
   ]
  },
  {
   "cell_type": "markdown",
   "metadata": {},
   "source": [
    "Note that the categories are not mutually exclusive in the data."
   ]
  },
  {
   "cell_type": "markdown",
   "metadata": {},
   "source": [
    "Eg: A comment could be obscene as well as a threat."
   ]
  },
  {
   "cell_type": "markdown",
   "metadata": {},
   "source": [
    "## Define parameters and constants"
   ]
  },
  {
   "cell_type": "markdown",
   "metadata": {},
   "source": [
    "We'll define some constant terms that we'll be using later"
   ]
  },
  {
   "cell_type": "code",
   "execution_count": 8,
   "metadata": {},
   "outputs": [],
   "source": [
    "MAX_SEQ_LENGTH=100\n",
    "MAX_VOCAB_SIZE=20000  # This is the maximum number of unique words that will be tokenized\n",
    "EMBEDDING_DIM=100     # Each word will be represented as 100 dim vector\n",
    "VALIDATION_SPLIT=0.2  # Useful while training\n",
    "BATCH_SIZE=128\n",
    "EPOCHS=10"
   ]
  },
  {
   "cell_type": "markdown",
   "metadata": {},
   "source": [
    "## Word Embeddings"
   ]
  },
  {
   "cell_type": "markdown",
   "metadata": {},
   "source": [
    "Word Embeddings are a collective term for models that learned to map a set of words or phrases in a vocabulary to vectors of numerical values."
   ]
  },
  {
   "cell_type": "markdown",
   "metadata": {},
   "source": [
    "### Why word embeddings?"
   ]
  },
  {
   "cell_type": "markdown",
   "metadata": {},
   "source": [
    "Models do not understand words as such, so we **have to encode the text data in some form before feeding to the model.**"
   ]
  },
  {
   "cell_type": "markdown",
   "metadata": {},
   "source": [
    "If the approach for dealing with words in text data is to one-hot encode the text, we will have tens of thousands of unique words in the text vocabulary.\n",
    "\n",
    "Computations with such **one-hot encoded vectors** for these words will be **very inefficient.**\n",
    "\n",
    "Because most values in the one-hot vector will be 0(sparse). \n",
    "\n",
    "So, the matrix calculations that will happen in between the one-hot vector and a first hidden layer will result in a output that will have mostly 0 values"
   ]
  },
  {
   "cell_type": "markdown",
   "metadata": {},
   "source": [
    "This is very inefficient."
   ]
  },
  {
   "cell_type": "markdown",
   "metadata": {},
   "source": [
    "### How do word embeddings work?"
   ]
  },
  {
   "cell_type": "markdown",
   "metadata": {},
   "source": [
    "Embeddings are just like a fully-connected layer. They serve as a lookup table.\n",
    "\n",
    "Now, instead of doing the matrix multiplication between the inputs and hidden layer, we directly grab the values from embedding weight matrix. \n",
    "\n",
    "We can do this because, the multiplication of one-hot vector with weight matrix returns the row of the matrix corresponding to the index of ‘1’ input unit"
   ]
  },
  {
   "cell_type": "markdown",
   "metadata": {},
   "source": [
    "### Pretrained Word Embeddings"
   ]
  },
  {
   "cell_type": "markdown",
   "metadata": {},
   "source": [
    "The word embeddings must be in such a manner that similar words have similar embeddings.\n",
    "\n",
    "For example, one will expect the embeddings of the words \"king\" and \"queen\" to be similar.\n",
    "\n",
    "Whereas the embeddings of the words \"live\" and \"die\" need to be quite different.\n",
    "\n",
    "So, when the word embeddings are visualized in space, one can find that similar words occur closer to each other."
   ]
  },
  {
   "cell_type": "markdown",
   "metadata": {},
   "source": [
    "There are multiple off-the-shelf word embeddings available, that have been trained on lots of data and can capture the relationship between different words and their contexts and have been embedded accordingly."
   ]
  },
  {
   "cell_type": "markdown",
   "metadata": {},
   "source": [
    "We will use the GloVe embeddings, developed by Stanford University.\n",
    "\n",
    "@Jeffrey Pennington, Richard Socher, and Christopher D. Manning. 2014. GloVe: Global Vectors for Word Representation."
   ]
  },
  {
   "cell_type": "markdown",
   "metadata": {},
   "source": [
    "### Load the pretrained word embeddings"
   ]
  },
  {
   "cell_type": "markdown",
   "metadata": {},
   "source": [
    "The GloVe Embeddings of various dimensions are avilable at https://nlp.stanford.edu/projects/glove/"
   ]
  },
  {
   "cell_type": "markdown",
   "metadata": {},
   "source": [
    "We will load the word embeddings into the runtime as a dictionary."
   ]
  },
  {
   "cell_type": "code",
   "execution_count": 7,
   "metadata": {},
   "outputs": [
    {
     "name": "stdout",
     "output_type": "stream",
     "text": [
      "Found  400000  word vectors\n"
     ]
    }
   ],
   "source": [
    "word2vec={}\n",
    "with open(os.path.join(\"../large_data/glove.6B/glove.6B.%sd.txt\" % EMBEDDING_DIM),encoding=\"utf-8\") as f:\n",
    "    for line in f:\n",
    "        values=line.split()\n",
    "        word=values[0]\n",
    "        embed=np.asarray(values[1:],dtype=\"float32\")\n",
    "        word2vec[word]=embed\n",
    "print(\"Found \",len(word2vec),\" word vectors\")   "
   ]
  },
  {
   "cell_type": "markdown",
   "metadata": {},
   "source": [
    "## Preparing the data to feed to model"
   ]
  },
  {
   "cell_type": "markdown",
   "metadata": {},
   "source": [
    "Fill missing data and extract training data and target labels."
   ]
  },
  {
   "cell_type": "code",
   "execution_count": 9,
   "metadata": {},
   "outputs": [
    {
     "data": {
      "text/plain": [
       "(159571, 6)"
      ]
     },
     "execution_count": 9,
     "metadata": {},
     "output_type": "execute_result"
    }
   ],
   "source": [
    "# Fill missing content with the text \"DUMMY_VALUE\"\n",
    "sentences=train[\"comment_text\"].fillna(\"DUMMY_VALUE\").values   # returns a numpy array\n",
    "\n",
    "\n",
    "possible_labels=[\"toxic\",\"severe_toxic\",\"obscene\",\"threat\",\"insult\",\"identity_hate\"]\n",
    "\n",
    "targets = train[possible_labels].values # returns a one hot encoded label vector for each example in train data\n",
    "targets.shape"
   ]
  },
  {
   "cell_type": "markdown",
   "metadata": {},
   "source": [
    "## Converting sentences into numbers (sequences)"
   ]
  },
  {
   "cell_type": "code",
   "execution_count": 10,
   "metadata": {},
   "outputs": [],
   "source": [
    "# Fit tokenizer\n",
    "tokenizer=Tokenizer(num_words = MAX_VOCAB_SIZE)\n",
    "tokenizer.fit_on_texts(sentences)\n",
    "\n",
    "# Use the fitted Tokenizer to convert the sentences into sequences\n",
    "sequences=tokenizer.texts_to_sequences(sentences)"
   ]
  },
  {
   "cell_type": "code",
   "execution_count": 12,
   "metadata": {},
   "outputs": [
    {
     "data": {
      "text/plain": [
       "159571"
      ]
     },
     "execution_count": 12,
     "metadata": {},
     "output_type": "execute_result"
    }
   ],
   "source": [
    "len(sequences)"
   ]
  },
  {
   "cell_type": "code",
   "execution_count": 14,
   "metadata": {},
   "outputs": [
    {
     "data": {
      "text/plain": [
       "47"
      ]
     },
     "execution_count": 14,
     "metadata": {},
     "output_type": "execute_result"
    }
   ],
   "source": [
    "len(sequences[0])"
   ]
  },
  {
   "cell_type": "markdown",
   "metadata": {},
   "source": [
    "Number of unique words in the train data"
   ]
  },
  {
   "cell_type": "code",
   "execution_count": 15,
   "metadata": {},
   "outputs": [
    {
     "name": "stdout",
     "output_type": "stream",
     "text": [
      "Found 210337 unique tokens \n"
     ]
    }
   ],
   "source": [
    "word2idx = tokenizer.word_index\n",
    "print(\"Found %s unique tokens \" % len(word2idx))"
   ]
  },
  {
   "cell_type": "markdown",
   "metadata": {},
   "source": [
    "## Perform padding on the sequences"
   ]
  },
  {
   "cell_type": "markdown",
   "metadata": {},
   "source": [
    "This is done to convert all sequences(samples) to the same length.\n",
    "\n",
    "The common length is experimental, while sometimes length of longest text sample is used."
   ]
  },
  {
   "cell_type": "code",
   "execution_count": 16,
   "metadata": {},
   "outputs": [
    {
     "name": "stdout",
     "output_type": "stream",
     "text": [
      "shape of data is  (159571, 100)\n"
     ]
    }
   ],
   "source": [
    "data = pad_sequences(sequences,maxlen=MAX_SEQ_LENGTH) # padding is pre by default\n",
    "print(\"shape of data is \",data.shape)"
   ]
  },
  {
   "cell_type": "markdown",
   "metadata": {},
   "source": [
    "## Create Embedding Matrix"
   ]
  },
  {
   "cell_type": "markdown",
   "metadata": {},
   "source": [
    "We need to prepare the embedding matrix, corresponding to our dataset, using the pretrained embeddings that have been loaded."
   ]
  },
  {
   "cell_type": "code",
   "execution_count": 17,
   "metadata": {
    "collapsed": true
   },
   "outputs": [
    {
     "ename": "NameError",
     "evalue": "name 'word2vec' is not defined",
     "output_type": "error",
     "traceback": [
      "\u001b[1;31m---------------------------------------------------------------------------\u001b[0m",
      "\u001b[1;31mNameError\u001b[0m                                 Traceback (most recent call last)",
      "\u001b[1;32m<ipython-input-17-bb289e2c8f41>\u001b[0m in \u001b[0;36m<module>\u001b[1;34m\u001b[0m\n\u001b[0;32m      7\u001b[0m \u001b[1;32mfor\u001b[0m \u001b[0mword\u001b[0m\u001b[1;33m,\u001b[0m\u001b[0mpos_from_start\u001b[0m \u001b[1;32min\u001b[0m \u001b[0mword2idx\u001b[0m\u001b[1;33m.\u001b[0m\u001b[0mitems\u001b[0m\u001b[1;33m(\u001b[0m\u001b[1;33m)\u001b[0m\u001b[1;33m:\u001b[0m\u001b[1;33m\u001b[0m\u001b[1;33m\u001b[0m\u001b[0m\n\u001b[0;32m      8\u001b[0m     \u001b[1;32mif\u001b[0m \u001b[0mpos_from_start\u001b[0m \u001b[1;33m<\u001b[0m \u001b[0mMAX_VOCAB_SIZE\u001b[0m\u001b[1;33m:\u001b[0m\u001b[1;33m\u001b[0m\u001b[1;33m\u001b[0m\u001b[0m\n\u001b[1;32m----> 9\u001b[1;33m         \u001b[0membedding_vector\u001b[0m \u001b[1;33m=\u001b[0m \u001b[0mword2vec\u001b[0m\u001b[1;33m.\u001b[0m\u001b[0mget\u001b[0m\u001b[1;33m(\u001b[0m\u001b[0mword\u001b[0m\u001b[1;33m)\u001b[0m \u001b[1;31m#we use get method instead of indexing because it helps if the word is not present in the dictionary\u001b[0m\u001b[1;33m\u001b[0m\u001b[1;33m\u001b[0m\u001b[0m\n\u001b[0m\u001b[0;32m     10\u001b[0m         \u001b[1;32mif\u001b[0m \u001b[0membedding_vector\u001b[0m \u001b[1;32mis\u001b[0m \u001b[1;32mnot\u001b[0m \u001b[1;32mNone\u001b[0m\u001b[1;33m:\u001b[0m\u001b[1;33m\u001b[0m\u001b[1;33m\u001b[0m\u001b[0m\n\u001b[0;32m     11\u001b[0m             \u001b[0membedding_matrix\u001b[0m\u001b[1;33m[\u001b[0m\u001b[0mpos_from_start\u001b[0m\u001b[1;33m]\u001b[0m \u001b[1;33m=\u001b[0m \u001b[0membedding_vector\u001b[0m\u001b[1;33m\u001b[0m\u001b[1;33m\u001b[0m\u001b[0m\n",
      "\u001b[1;31mNameError\u001b[0m: name 'word2vec' is not defined"
     ]
    }
   ],
   "source": [
    "num_words=min(MAX_VOCAB_SIZE,len(word2idx)+1) # Num of words should be less than or equal to MAX_VOCAB_SIZE\n",
    "\n",
    "# The +1 term indicates that the tokenizer indexing begins from 1\n",
    "\n",
    "embedding_matrix = np.zeros((num_words,EMBEDDING_DIM))   # Dummy matrix - values to be filled yet\n",
    "\n",
    "for word,pos_from_start in word2idx.items():\n",
    "    if pos_from_start < MAX_VOCAB_SIZE:\n",
    "        embedding_vector = word2vec.get(word) #we use get method instead of indexing because it helps if the word is not present in the dictionary\n",
    "        if embedding_vector is not None:\n",
    "            embedding_matrix[pos_from_start] = embedding_vector"
   ]
  },
  {
   "cell_type": "code",
   "execution_count": 13,
   "metadata": {},
   "outputs": [
    {
     "data": {
      "text/plain": [
       "(20000, 100)"
      ]
     },
     "execution_count": 13,
     "metadata": {},
     "output_type": "execute_result"
    }
   ],
   "source": [
    "embedding_matrix.shape"
   ]
  },
  {
   "cell_type": "markdown",
   "metadata": {},
   "source": [
    "Note: In the embedding matrix ,vector corresponding to words that are present in the data but not in the tokenizer is just a list of  zeros"
   ]
  },
  {
   "cell_type": "markdown",
   "metadata": {},
   "source": [
    "## Load the obtained Embedding matrix into a Keras Layer"
   ]
  },
  {
   "cell_type": "markdown",
   "metadata": {},
   "source": [
    "Also, we **set Trainable parameter for the layer to False**, for this layer as we have already loaded pretrained weights(embeddings)"
   ]
  },
  {
   "cell_type": "code",
   "execution_count": 14,
   "metadata": {},
   "outputs": [],
   "source": [
    "embedding_layer=Embedding(num_words,\n",
    "                          EMBEDDING_DIM,\n",
    "                          weights=[embedding_matrix],\n",
    "                          input_length=MAX_SEQ_LENGTH,\n",
    "                          trainable=False\n",
    "                         )"
   ]
  },
  {
   "cell_type": "markdown",
   "metadata": {},
   "source": [
    "# Modelling"
   ]
  },
  {
   "cell_type": "markdown",
   "metadata": {},
   "source": [
    "## Baseline model"
   ]
  },
  {
   "cell_type": "markdown",
   "metadata": {},
   "source": [
    "We will try building a model with 1dimensional convolutional layers, since the data is text data(1 dimensional)."
   ]
  },
  {
   "cell_type": "markdown",
   "metadata": {},
   "source": [
    "### Define a 1D Convolutional Neural Network"
   ]
  },
  {
   "cell_type": "code",
   "execution_count": null,
   "metadata": {},
   "outputs": [],
   "source": [
    "input_=Input(shape=(MAX_SEQ_LENGTH,))\n",
    "\n",
    "x = embedding_layer(input_)             # The Embedding layer we created\n",
    "\n",
    "x = Conv1D(128,3,activation=\"relu\")(x)\n",
    "x = MaxPooling1D(3)(x)\n",
    "\n",
    "x = Conv1D(128,3,activation=\"relu\")(x)\n",
    "x = MaxPooling1D(3)(x)\n",
    "\n",
    "x = Conv1D(128,3,activation=\"relu\")(x)\n",
    "x = GlobalMaxPooling1D()(x)             # max from every input channel\n",
    "# This also indicates which timestep value in that sequnce was most influential for classification\n",
    "\n",
    "x = Dense(128,activation=\"relu\")(x)\n",
    "\n",
    "output = Dense(len(possible_labels),activation=\"sigmoid\")(x)"
   ]
  },
  {
   "cell_type": "markdown",
   "metadata": {},
   "source": [
    "We use sigmoid classifier so that, **each of the 6 units in the last layer act as a linear classifier(y/n)**, corresponding to each level of toxicity.\n"
   ]
  },
  {
   "cell_type": "markdown",
   "metadata": {},
   "source": [
    "### Compile the model"
   ]
  },
  {
   "cell_type": "code",
   "execution_count": 20,
   "metadata": {},
   "outputs": [],
   "source": [
    "model1=Model(input_,output)\n",
    "model1.compile(loss=\"binary_crossentropy\",\n",
    "             optimizer=\"rmsprop\",\n",
    "             metrics=[\"accuracy\"]\n",
    "              )"
   ]
  },
  {
   "cell_type": "markdown",
   "metadata": {},
   "source": [
    "### Fit the model"
   ]
  },
  {
   "cell_type": "markdown",
   "metadata": {},
   "source": [
    " We fit the model to 80% split of total data and validate on the remaining 20%."
   ]
  },
  {
   "cell_type": "code",
   "execution_count": 22,
   "metadata": {},
   "outputs": [
    {
     "name": "stdout",
     "output_type": "stream",
     "text": [
      "Train on 127656 samples, validate on 31915 samples\n",
      "Epoch 1/10\n",
      "127656/127656 [==============================] - 27s 210us/sample - loss: 0.0842 - accuracy: 0.9729 - val_loss: 0.0774 - val_accuracy: 0.9750\n",
      "Epoch 2/10\n",
      "127656/127656 [==============================] - 17s 130us/sample - loss: 0.0673 - accuracy: 0.9773 - val_loss: 0.0710 - val_accuracy: 0.9768\n",
      "Epoch 3/10\n",
      "127656/127656 [==============================] - 16s 128us/sample - loss: 0.0629 - accuracy: 0.9784 - val_loss: 0.0770 - val_accuracy: 0.9776\n",
      "Epoch 4/10\n",
      "127656/127656 [==============================] - 16s 125us/sample - loss: 0.0600 - accuracy: 0.9792 - val_loss: 0.0665 - val_accuracy: 0.9776\n",
      "Epoch 5/10\n",
      "127656/127656 [==============================] - 16s 125us/sample - loss: 0.0576 - accuracy: 0.9799 - val_loss: 0.0743 - val_accuracy: 0.9775\n",
      "Epoch 6/10\n",
      "127656/127656 [==============================] - 16s 125us/sample - loss: 0.0554 - accuracy: 0.9804 - val_loss: 0.0691 - val_accuracy: 0.9771\n",
      "Epoch 7/10\n",
      "127656/127656 [==============================] - 16s 125us/sample - loss: 0.0538 - accuracy: 0.9810 - val_loss: 0.0703 - val_accuracy: 0.9770\n",
      "Epoch 8/10\n",
      "127656/127656 [==============================] - 16s 126us/sample - loss: 0.0523 - accuracy: 0.9815 - val_loss: 0.0725 - val_accuracy: 0.9770\n",
      "Epoch 9/10\n",
      "127656/127656 [==============================] - 16s 126us/sample - loss: 0.0511 - accuracy: 0.9818 - val_loss: 0.0755 - val_accuracy: 0.9742\n",
      "Epoch 10/10\n",
      "127656/127656 [==============================] - 16s 127us/sample - loss: 0.0504 - accuracy: 0.9821 - val_loss: 0.0911 - val_accuracy: 0.9747\n"
     ]
    }
   ],
   "source": [
    "history=model1.fit(\n",
    "                data,\n",
    "                targets,\n",
    "                batch_size=BATCH_SIZE,\n",
    "                epochs=EPOCHS,\n",
    "                validation_split=VALIDATION_SPLIT\n",
    "                )"
   ]
  },
  {
   "cell_type": "markdown",
   "metadata": {},
   "source": [
    "As we can see, we are able to achieve very high levels of accuracy in predicting the levels(s) of toxicity of the comments."
   ]
  },
  {
   "cell_type": "markdown",
   "metadata": {},
   "source": [
    "### Review progress of loss and accuracy"
   ]
  },
  {
   "cell_type": "code",
   "execution_count": 19,
   "metadata": {},
   "outputs": [],
   "source": [
    "def plot_curves(history):\n",
    "    fig,(ax0,ax1)=plt.subplots(2,1,figsize=(8,8))\n",
    "    ax0.plot(history.history[\"loss\"],label=\"loss\")\n",
    "    ax0.plot(history.history[\"val_loss\"],label=\"val_loss\")\n",
    "    ax0.legend()\n",
    "    ax1.plot(history.history[\"accuracy\"],label=\"accuracy\")\n",
    "    ax1.plot(history.history[\"val_accuracy\"],label=\"val_accuracy\")\n",
    "    ax1.legend()\n",
    "    plt.show()"
   ]
  },
  {
   "cell_type": "code",
   "execution_count": 35,
   "metadata": {},
   "outputs": [
    {
     "data": {
      "image/png": "[encoded data removed]",
      "text/plain": [
       "<Figure size 576x576 with 2 Axes>"
      ]
     },
     "metadata": {
      "needs_background": "light"
     },
     "output_type": "display_data"
    }
   ],
   "source": [
    "plot_curves(history)"
   ]
  },
  {
   "cell_type": "markdown",
   "metadata": {},
   "source": [
    "So we see the validation accuracy plateaued and then started to drop at some point.\n",
    "\n",
    "It might indicate that, the model started overfitting the data from that point onwards."
   ]
  },
  {
   "cell_type": "markdown",
   "metadata": {},
   "source": [
    "## Using Adam optimizer"
   ]
  },
  {
   "cell_type": "markdown",
   "metadata": {},
   "source": [
    "RMSProp was the optimizer previously. We shall also try using the Adam optimizer."
   ]
  },
  {
   "cell_type": "code",
   "execution_count": 36,
   "metadata": {},
   "outputs": [
    {
     "name": "stdout",
     "output_type": "stream",
     "text": [
      "Train on 127656 samples, validate on 31915 samples\n",
      "Epoch 1/10\n",
      "127656/127656 [==============================] - 17s 136us/sample - loss: 0.0471 - accuracy: 0.9827 - val_loss: 0.0805 - val_accuracy: 0.9774\n",
      "Epoch 2/10\n",
      "127656/127656 [==============================] - 16s 123us/sample - loss: 0.0440 - accuracy: 0.9836 - val_loss: 0.0753 - val_accuracy: 0.9762\n",
      "Epoch 3/10\n",
      "127656/127656 [==============================] - 16s 126us/sample - loss: 0.0420 - accuracy: 0.9842 - val_loss: 0.0776 - val_accuracy: 0.9770\n",
      "Epoch 4/10\n",
      "127656/127656 [==============================] - 16s 125us/sample - loss: 0.0397 - accuracy: 0.9848 - val_loss: 0.0798 - val_accuracy: 0.9771\n",
      "Epoch 5/10\n",
      "127656/127656 [==============================] - 16s 122us/sample - loss: 0.0377 - accuracy: 0.9855 - val_loss: 0.0860 - val_accuracy: 0.9753\n",
      "Epoch 6/10\n",
      "127656/127656 [==============================] - 16s 123us/sample - loss: 0.0360 - accuracy: 0.9861 - val_loss: 0.0937 - val_accuracy: 0.9764\n",
      "Epoch 7/10\n",
      "127656/127656 [==============================] - 16s 124us/sample - loss: 0.0343 - accuracy: 0.9867 - val_loss: 0.0972 - val_accuracy: 0.9763\n",
      "Epoch 8/10\n",
      "127656/127656 [==============================] - 16s 123us/sample - loss: 0.0325 - accuracy: 0.9874 - val_loss: 0.0977 - val_accuracy: 0.9752\n",
      "Epoch 9/10\n",
      "127656/127656 [==============================] - 16s 124us/sample - loss: 0.0312 - accuracy: 0.9878 - val_loss: 0.1020 - val_accuracy: 0.9759\n",
      "Epoch 10/10\n",
      "127656/127656 [==============================] - 16s 122us/sample - loss: 0.0300 - accuracy: 0.9883 - val_loss: 0.1011 - val_accuracy: 0.9755\n"
     ]
    }
   ],
   "source": [
    "model2=Model(input_,output)\n",
    "model2.compile(loss=\"binary_crossentropy\",\n",
    "             optimizer=\"adam\",\n",
    "             metrics=[\"accuracy\"]\n",
    "              )\n",
    "history=model2.fit(\n",
    "                data,\n",
    "                targets,\n",
    "                batch_size=BATCH_SIZE,\n",
    "                epochs=EPOCHS,\n",
    "                validation_split=VALIDATION_SPLIT\n",
    "                )"
   ]
  },
  {
   "cell_type": "code",
   "execution_count": 37,
   "metadata": {},
   "outputs": [
    {
     "data": {
      "image/png": "[encoded data removed]",
      "text/plain": [
       "<Figure size 576x576 with 2 Axes>"
      ]
     },
     "metadata": {
      "needs_background": "light"
     },
     "output_type": "display_data"
    }
   ],
   "source": [
    "plot_curves(history)"
   ]
  },
  {
   "cell_type": "markdown",
   "metadata": {},
   "source": [
    "## Introducing Dropout"
   ]
  },
  {
   "cell_type": "markdown",
   "metadata": {},
   "source": [
    "Introducing Dropout can help with reducing the overfitting, as it forces the model's layers to improve the generalization by randomly remving certain links from the previous layers, so that the current layer doesn't overly rely on particular input links from the previous layer."
   ]
  },
  {
   "cell_type": "code",
   "execution_count": 40,
   "metadata": {},
   "outputs": [
    {
     "name": "stdout",
     "output_type": "stream",
     "text": [
      "Train on 127656 samples, validate on 31915 samples\n",
      "Epoch 1/10\n",
      "127656/127656 [==============================] - 17s 137us/sample - loss: 0.0853 - accuracy: 0.9729 - val_loss: 0.0696 - val_accuracy: 0.9763\n",
      "Epoch 2/10\n",
      "127656/127656 [==============================] - 16s 124us/sample - loss: 0.0666 - accuracy: 0.9774 - val_loss: 0.0670 - val_accuracy: 0.9773\n",
      "Epoch 3/10\n",
      "127656/127656 [==============================] - 16s 123us/sample - loss: 0.0620 - accuracy: 0.9786 - val_loss: 0.0666 - val_accuracy: 0.9776\n",
      "Epoch 4/10\n",
      "127656/127656 [==============================] - 16s 124us/sample - loss: 0.0581 - accuracy: 0.9795 - val_loss: 0.0659 - val_accuracy: 0.9778\n",
      "Epoch 5/10\n",
      "127656/127656 [==============================] - 16s 124us/sample - loss: 0.0544 - accuracy: 0.9804 - val_loss: 0.0678 - val_accuracy: 0.9775\n",
      "Epoch 6/10\n",
      "127656/127656 [==============================] - 16s 124us/sample - loss: 0.0511 - accuracy: 0.9811 - val_loss: 0.0698 - val_accuracy: 0.9770\n",
      "Epoch 7/10\n",
      "127656/127656 [==============================] - 16s 124us/sample - loss: 0.0473 - accuracy: 0.9822 - val_loss: 0.0775 - val_accuracy: 0.9774\n",
      "Epoch 8/10\n",
      "127656/127656 [==============================] - 16s 124us/sample - loss: 0.0444 - accuracy: 0.9829 - val_loss: 0.0798 - val_accuracy: 0.9762\n",
      "Epoch 9/10\n",
      "127656/127656 [==============================] - 16s 127us/sample - loss: 0.0415 - accuracy: 0.9838 - val_loss: 0.0763 - val_accuracy: 0.9761\n",
      "Epoch 10/10\n",
      "127656/127656 [==============================] - 16s 124us/sample - loss: 0.0387 - accuracy: 0.9848 - val_loss: 0.0935 - val_accuracy: 0.9768\n"
     ]
    }
   ],
   "source": [
    "input_=Input(shape=(MAX_SEQ_LENGTH,))\n",
    "\n",
    "x=embedding_layer(input_)\n",
    "\n",
    "x=Conv1D(128,3,activation=\"relu\")(x)\n",
    "x=MaxPooling1D(3)(x)\n",
    "\n",
    "x=Conv1D(128,3,activation=\"relu\")(x)\n",
    "x=MaxPooling1D(3)(x)\n",
    "\n",
    "x=Conv1D(128,3,activation=\"relu\")(x)\n",
    "x=GlobalMaxPooling1D()(x)                 # max from every input channel\n",
    "# This also indicates which timestep value in that sequence was most influential for classification\n",
    "\n",
    "x=Dense(128,activation=\"relu\")(x)\n",
    "x=tf.keras.layers.Dropout(0.3)(x)\n",
    "\n",
    "output=Dense(len(possible_labels),activation=\"sigmoid\")(x)\n",
    "# we use sigmoid classifier so that each of the 6 units in the last layer act as a linear classifier(y/n)\n",
    "\n",
    "model3=Model(input_,output)\n",
    "model3.compile(loss=\"binary_crossentropy\",\n",
    "             optimizer=\"adam\",\n",
    "             metrics=[\"accuracy\"]\n",
    "              )\n",
    "history=model3.fit(\n",
    "                data,\n",
    "                targets,\n",
    "                batch_size=BATCH_SIZE,\n",
    "                epochs=EPOCHS,\n",
    "                validation_split=VALIDATION_SPLIT\n",
    "                )"
   ]
  },
  {
   "cell_type": "code",
   "execution_count": 41,
   "metadata": {},
   "outputs": [
    {
     "data": {
      "image/png": "[encoded data removed]",
      "text/plain": [
       "<Figure size 576x576 with 2 Axes>"
      ]
     },
     "metadata": {
      "needs_background": "light"
     },
     "output_type": "display_data"
    }
   ],
   "source": [
    "plot_curves(history)"
   ]
  },
  {
   "cell_type": "markdown",
   "metadata": {},
   "source": [
    "## Using callbacks"
   ]
  },
  {
   "cell_type": "code",
   "execution_count": 15,
   "metadata": {},
   "outputs": [],
   "source": [
    "early_stopping=tf.keras.callbacks.EarlyStopping(patience=5,monitor=\"val_accuracy\")\n",
    "model_checkpoint=tf.keras.callbacks.ModelCheckpoint(\"model3.h5\",monitor=\"val_accuracy\",save_best_only=True)"
   ]
  },
  {
   "cell_type": "code",
   "execution_count": 44,
   "metadata": {},
   "outputs": [
    {
     "name": "stdout",
     "output_type": "stream",
     "text": [
      "Train on 127656 samples, validate on 31915 samples\n",
      "Epoch 1/100\n",
      "127656/127656 [==============================] - 16s 128us/sample - loss: 0.0363 - accuracy: 0.9856 - val_loss: 0.0879 - val_accuracy: 0.9735\n",
      "Epoch 2/100\n",
      "127656/127656 [==============================] - 16s 125us/sample - loss: 0.0350 - accuracy: 0.9862 - val_loss: 0.0883 - val_accuracy: 0.9738\n",
      "Epoch 3/100\n",
      "127656/127656 [==============================] - 16s 125us/sample - loss: 0.0329 - accuracy: 0.9871 - val_loss: 0.1026 - val_accuracy: 0.9762\n",
      "Epoch 4/100\n",
      "127656/127656 [==============================] - 16s 125us/sample - loss: 0.0313 - accuracy: 0.9875 - val_loss: 0.0998 - val_accuracy: 0.9746\n",
      "Epoch 5/100\n",
      "127656/127656 [==============================] - 16s 127us/sample - loss: 0.0298 - accuracy: 0.9880 - val_loss: 0.1108 - val_accuracy: 0.9739\n",
      "Epoch 6/100\n",
      "127656/127656 [==============================] - 16s 125us/sample - loss: 0.0283 - accuracy: 0.9888 - val_loss: 0.1102 - val_accuracy: 0.9745\n",
      "Epoch 7/100\n",
      "127656/127656 [==============================] - 16s 125us/sample - loss: 0.0270 - accuracy: 0.9892 - val_loss: 0.1352 - val_accuracy: 0.9754\n",
      "Epoch 8/100\n",
      "127656/127656 [==============================] - 16s 125us/sample - loss: 0.0259 - accuracy: 0.9896 - val_loss: 0.1325 - val_accuracy: 0.9749\n"
     ]
    }
   ],
   "source": [
    "EPOCHS=100\n",
    "history=model3.fit(\n",
    "                data,\n",
    "                targets,\n",
    "                batch_size=BATCH_SIZE,\n",
    "                epochs=EPOCHS,\n",
    "                validation_split=VALIDATION_SPLIT,\n",
    "                callbacks=[early_stopping,model_checkpoint]\n",
    "                )"
   ]
  },
  {
   "cell_type": "code",
   "execution_count": null,
   "metadata": {},
   "outputs": [],
   "source": [
    "model.save(\"model3.h5\")"
   ]
  },
  {
   "cell_type": "markdown",
   "metadata": {},
   "source": [
    "# Evaluate model on train data"
   ]
  },
  {
   "cell_type": "code",
   "execution_count": 45,
   "metadata": {},
   "outputs": [
    {
     "name": "stdout",
     "output_type": "stream",
     "text": [
      "0.9845899314544826\n"
     ]
    }
   ],
   "source": [
    "model=tf.keras.models.load_model(\"model3.h5\")\n",
    "p=model.predict(data)\n",
    "aucs = []\n",
    "\n",
    "for j in range(6):\n",
    "    auc = roc_auc_score(targets[:,j], p[:,j])\n",
    "    aucs.append(auc)\n",
    "print(np.mean(aucs))"
   ]
  },
  {
   "cell_type": "markdown",
   "metadata": {},
   "source": [
    "Shape of predictions must be (NUM_TRAIN_SAMPLES, NUM_LEVELS_OF_TOXICITY)"
   ]
  },
  {
   "cell_type": "code",
   "execution_count": 50,
   "metadata": {},
   "outputs": [
    {
     "data": {
      "text/plain": [
       "(159571, 6)"
      ]
     },
     "execution_count": 50,
     "metadata": {},
     "output_type": "execute_result"
    }
   ],
   "source": [
    "p.shape"
   ]
  },
  {
   "cell_type": "markdown",
   "metadata": {},
   "source": [
    "# Make predictions on test data"
   ]
  },
  {
   "cell_type": "code",
   "execution_count": 26,
   "metadata": {},
   "outputs": [],
   "source": [
    "test_sentences=test[\"comment_text\"].fillna(\"DUMMY_VALUE\").values\n",
    "test_sequences=tokenizer.texts_to_sequences(test_sentences)\n",
    "test_data=pad_sequences(test_sequences,maxlen=MAX_SEQ_LENGTH)"
   ]
  },
  {
   "cell_type": "code",
   "execution_count": 53,
   "metadata": {},
   "outputs": [],
   "source": [
    "pred=model.predict(test_data)"
   ]
  },
  {
   "cell_type": "code",
   "execution_count": 59,
   "metadata": {},
   "outputs": [
    {
     "data": {
      "text/plain": [
       "(153164,)"
      ]
     },
     "execution_count": 59,
     "metadata": {},
     "output_type": "execute_result"
    }
   ],
   "source": [
    "pred[:,0].shape"
   ]
  },
  {
   "cell_type": "code",
   "execution_count": 60,
   "metadata": {},
   "outputs": [
    {
     "data": {
      "text/plain": [
       "['toxic', 'severe_toxic', 'obscene', 'threat', 'insult', 'identity_hate']"
      ]
     },
     "execution_count": 60,
     "metadata": {},
     "output_type": "execute_result"
    }
   ],
   "source": [
    "possible_labels"
   ]
  },
  {
   "cell_type": "markdown",
   "metadata": {},
   "source": [
    "# Create submission file"
   ]
  },
  {
   "cell_type": "code",
   "execution_count": 64,
   "metadata": {},
   "outputs": [],
   "source": [
    "submit1 = pd.DataFrame(columns=[\"id\",\"toxic\",\"severe_toxic\",\"threat\",\"insult\",\"identity_hate\"])\n",
    "submit1[\"id\"] = test[\"id\"]\n",
    "i=0\n",
    "for col in possible_labels:\n",
    "    submit1[col]=pred[:,i]\n",
    "    i=i+1"
   ]
  },
  {
   "cell_type": "code",
   "execution_count": 66,
   "metadata": {},
   "outputs": [
    {
     "data": {
      "text/html": [
       "<div>\n",
       "<style scoped>\n",
       "    .dataframe tbody tr th:only-of-type {\n",
       "        vertical-align: middle;\n",
       "    }\n",
       "\n",
       "    .dataframe tbody tr th {\n",
       "        vertical-align: top;\n",
       "    }\n",
       "\n",
       "    .dataframe thead th {\n",
       "        text-align: right;\n",
       "    }\n",
       "</style>\n",
       "<table border=\"1\" class=\"dataframe\">\n",
       "  <thead>\n",
       "    <tr style=\"text-align: right;\">\n",
       "      <th></th>\n",
       "      <th>id</th>\n",
       "      <th>toxic</th>\n",
       "      <th>severe_toxic</th>\n",
       "      <th>threat</th>\n",
       "      <th>insult</th>\n",
       "      <th>identity_hate</th>\n",
       "      <th>obscene</th>\n",
       "    </tr>\n",
       "  </thead>\n",
       "  <tbody>\n",
       "    <tr>\n",
       "      <th>1</th>\n",
       "      <td>00001cee341fdb12</td>\n",
       "      <td>1.000000e+00</td>\n",
       "      <td>3.752819e-01</td>\n",
       "      <td>1.168774e-02</td>\n",
       "      <td>9.971231e-01</td>\n",
       "      <td>7.376846e-02</td>\n",
       "      <td>9.997517e-01</td>\n",
       "    </tr>\n",
       "    <tr>\n",
       "      <th>2</th>\n",
       "      <td>0000247867823ef7</td>\n",
       "      <td>1.371799e-05</td>\n",
       "      <td>5.787441e-10</td>\n",
       "      <td>2.532108e-08</td>\n",
       "      <td>3.375985e-07</td>\n",
       "      <td>9.485506e-08</td>\n",
       "      <td>4.288914e-07</td>\n",
       "    </tr>\n",
       "    <tr>\n",
       "      <th>3</th>\n",
       "      <td>00013b17ad220c46</td>\n",
       "      <td>6.916296e-06</td>\n",
       "      <td>2.414799e-12</td>\n",
       "      <td>2.579551e-10</td>\n",
       "      <td>3.633752e-08</td>\n",
       "      <td>8.552794e-10</td>\n",
       "      <td>5.858025e-08</td>\n",
       "    </tr>\n",
       "    <tr>\n",
       "      <th>4</th>\n",
       "      <td>00017563c3f7919a</td>\n",
       "      <td>2.536045e-07</td>\n",
       "      <td>1.427072e-16</td>\n",
       "      <td>1.225002e-13</td>\n",
       "      <td>8.751573e-11</td>\n",
       "      <td>1.735328e-12</td>\n",
       "      <td>3.456135e-10</td>\n",
       "    </tr>\n",
       "    <tr>\n",
       "      <th>5</th>\n",
       "      <td>00017695ad8997eb</td>\n",
       "      <td>8.897703e-03</td>\n",
       "      <td>1.679537e-06</td>\n",
       "      <td>1.955283e-05</td>\n",
       "      <td>2.736564e-04</td>\n",
       "      <td>3.713221e-05</td>\n",
       "      <td>6.024764e-04</td>\n",
       "    </tr>\n",
       "    <tr>\n",
       "      <th>...</th>\n",
       "      <td>...</td>\n",
       "      <td>...</td>\n",
       "      <td>...</td>\n",
       "      <td>...</td>\n",
       "      <td>...</td>\n",
       "      <td>...</td>\n",
       "      <td>...</td>\n",
       "    </tr>\n",
       "    <tr>\n",
       "      <th>153160</th>\n",
       "      <td>fffcd0960ee309b5</td>\n",
       "      <td>6.428466e-05</td>\n",
       "      <td>6.214883e-10</td>\n",
       "      <td>1.703570e-08</td>\n",
       "      <td>7.804044e-07</td>\n",
       "      <td>6.268426e-08</td>\n",
       "      <td>2.021390e-06</td>\n",
       "    </tr>\n",
       "    <tr>\n",
       "      <th>153161</th>\n",
       "      <td>fffd7a9a6eb32c16</td>\n",
       "      <td>3.763091e-04</td>\n",
       "      <td>1.058092e-10</td>\n",
       "      <td>6.228809e-08</td>\n",
       "      <td>1.281100e-06</td>\n",
       "      <td>2.047174e-07</td>\n",
       "      <td>5.360809e-07</td>\n",
       "    </tr>\n",
       "    <tr>\n",
       "      <th>153162</th>\n",
       "      <td>fffda9e8d6fafa9e</td>\n",
       "      <td>1.125908e-04</td>\n",
       "      <td>3.610265e-11</td>\n",
       "      <td>2.700977e-09</td>\n",
       "      <td>7.642788e-07</td>\n",
       "      <td>1.836914e-08</td>\n",
       "      <td>1.504739e-06</td>\n",
       "    </tr>\n",
       "    <tr>\n",
       "      <th>153163</th>\n",
       "      <td>fffe8f1340a79fc2</td>\n",
       "      <td>4.050927e-07</td>\n",
       "      <td>7.050569e-14</td>\n",
       "      <td>2.032878e-10</td>\n",
       "      <td>1.357593e-09</td>\n",
       "      <td>6.201860e-09</td>\n",
       "      <td>7.290533e-10</td>\n",
       "    </tr>\n",
       "    <tr>\n",
       "      <th>153164</th>\n",
       "      <td>ffffce3fb183ee80</td>\n",
       "      <td>9.672789e-01</td>\n",
       "      <td>1.310732e-03</td>\n",
       "      <td>1.609037e-03</td>\n",
       "      <td>3.050682e-01</td>\n",
       "      <td>2.368480e-03</td>\n",
       "      <td>5.193196e-01</td>\n",
       "    </tr>\n",
       "  </tbody>\n",
       "</table>\n",
       "<p>153164 rows × 7 columns</p>\n",
       "</div>"
      ],
      "text/plain": [
       "                      id         toxic  severe_toxic        threat  \\\n",
       "1       00001cee341fdb12  1.000000e+00  3.752819e-01  1.168774e-02   \n",
       "2       0000247867823ef7  1.371799e-05  5.787441e-10  2.532108e-08   \n",
       "3       00013b17ad220c46  6.916296e-06  2.414799e-12  2.579551e-10   \n",
       "4       00017563c3f7919a  2.536045e-07  1.427072e-16  1.225002e-13   \n",
       "5       00017695ad8997eb  8.897703e-03  1.679537e-06  1.955283e-05   \n",
       "...                  ...           ...           ...           ...   \n",
       "153160  fffcd0960ee309b5  6.428466e-05  6.214883e-10  1.703570e-08   \n",
       "153161  fffd7a9a6eb32c16  3.763091e-04  1.058092e-10  6.228809e-08   \n",
       "153162  fffda9e8d6fafa9e  1.125908e-04  3.610265e-11  2.700977e-09   \n",
       "153163  fffe8f1340a79fc2  4.050927e-07  7.050569e-14  2.032878e-10   \n",
       "153164  ffffce3fb183ee80  9.672789e-01  1.310732e-03  1.609037e-03   \n",
       "\n",
       "              insult  identity_hate       obscene  \n",
       "1       9.971231e-01   7.376846e-02  9.997517e-01  \n",
       "2       3.375985e-07   9.485506e-08  4.288914e-07  \n",
       "3       3.633752e-08   8.552794e-10  5.858025e-08  \n",
       "4       8.751573e-11   1.735328e-12  3.456135e-10  \n",
       "5       2.736564e-04   3.713221e-05  6.024764e-04  \n",
       "...              ...            ...           ...  \n",
       "153160  7.804044e-07   6.268426e-08  2.021390e-06  \n",
       "153161  1.281100e-06   2.047174e-07  5.360809e-07  \n",
       "153162  7.642788e-07   1.836914e-08  1.504739e-06  \n",
       "153163  1.357593e-09   6.201860e-09  7.290533e-10  \n",
       "153164  3.050682e-01   2.368480e-03  5.193196e-01  \n",
       "\n",
       "[153164 rows x 7 columns]"
      ]
     },
     "execution_count": 66,
     "metadata": {},
     "output_type": "execute_result"
    }
   ],
   "source": [
    "submit1.index = submit1.index+1\n",
    "submit1"
   ]
  },
  {
   "cell_type": "code",
   "execution_count": 73,
   "metadata": {},
   "outputs": [],
   "source": [
    "submit1.to_csv(\"submission1.csv\",index=False)"
   ]
  },
  {
   "cell_type": "markdown",
   "metadata": {},
   "source": [
    "# Using LSTM"
   ]
  },
  {
   "cell_type": "markdown",
   "metadata": {},
   "source": [
    "LSTMs can perform a much better job in Natural Language Processing than other types of networks(RNNs), as they\n",
    "\n",
    "* can store information from much longer ago in the sequence\n",
    "* have better control over what part of the context from previous timesteps to use and let pass through\n",
    "* better avoid the vanishing gradients problem"
   ]
  },
  {
   "cell_type": "markdown",
   "metadata": {},
   "source": [
    "We will make use of Bidirectional LSTMs to build the model."
   ]
  },
  {
   "cell_type": "code",
   "execution_count": 21,
   "metadata": {},
   "outputs": [],
   "source": [
    "BATCH_SIZE=128"
   ]
  },
  {
   "cell_type": "markdown",
   "metadata": {},
   "source": [
    "Define Embedding Layer"
   ]
  },
  {
   "cell_type": "code",
   "execution_count": 20,
   "metadata": {},
   "outputs": [
    {
     "name": "stdout",
     "output_type": "stream",
     "text": [
      "shape of data is  (159571, 200)\n"
     ]
    }
   ],
   "source": [
    "MAX_SEQ_LENGTH=200\n",
    "data=pad_sequences(sequences,maxlen=MAX_SEQ_LENGTH)  # padding is pre by default\n",
    "print(\"shape of data is \",data.shape)\n",
    "embedding_layer = Embedding(num_words,\n",
    "                         EMBEDDING_DIM,\n",
    "                          weights=[embedding_matrix],\n",
    "                          input_length=MAX_SEQ_LENGTH,\n",
    "                          trainable=False\n",
    "                         )"
   ]
  },
  {
   "cell_type": "markdown",
   "metadata": {},
   "source": [
    "Tokenize and convert sentences to sequences"
   ]
  },
  {
   "cell_type": "code",
   "execution_count": 26,
   "metadata": {},
   "outputs": [],
   "source": [
    "test_sentences=test[\"comment_text\"].fillna(\"DUMMY_VALUE\").values\n",
    "test_sequences=tokenizer.texts_to_sequences(test_sentences)\n",
    "test_data=pad_sequences(test_sequences,maxlen=MAX_SEQ_LENGTH)"
   ]
  },
  {
   "cell_type": "markdown",
   "metadata": {},
   "source": [
    "Define Model"
   ]
  },
  {
   "cell_type": "code",
   "execution_count": null,
   "metadata": {},
   "outputs": [],
   "source": [
    "input_=Input(shape=(MAX_SEQ_LENGTH,))\n",
    "x=embedding_layer(input_)\n",
    "x=Bidirectional(LSTM(15,return_sequences=True))(x)# we'll return output for every timestep and then global max pool over it\n",
    "x=GlobalMaxPooling1D()(x) # max from every input channel(one from T outputs of 1 layer)\n",
    "# it also indicates which timestep value in that sequnce was most influential for classification\n",
    "output=Dense(len(possible_labels),activation=\"sigmoid\")(x)\n",
    "# we use sigmoid classifier so that each of the 6 units in the last layer act as a linear classifier(y/n)"
   ]
  },
  {
   "cell_type": "markdown",
   "metadata": {},
   "source": [
    "Compile the model"
   ]
  },
  {
   "cell_type": "code",
   "execution_count": null,
   "metadata": {},
   "outputs": [],
   "source": [
    "model5=Model(input_,output)\n",
    "model5.compile(loss=\"binary_crossentropy\",\n",
    "             optimizer=\"adam\",\n",
    "             metrics=[\"accuracy\"]\n",
    "              )\n",
    "model_checkpoint=tf.keras.callbacks.ModelCheckpoint(\"model5.h5\",monitor=\"val_accuracy\",save_best_only=True)\n",
    "early_stopping=tf.keras.callbacks.EarlyStopping(patience=5,monitor=\"val_accuracy\")"
   ]
  },
  {
   "cell_type": "markdown",
   "metadata": {},
   "source": [
    "Fit the model"
   ]
  },
  {
   "cell_type": "code",
   "execution_count": 24,
   "metadata": {},
   "outputs": [
    {
     "name": "stdout",
     "output_type": "stream",
     "text": [
      "Train on 127656 samples, validate on 31915 samples\n",
      "Epoch 1/50\n",
      "127656/127656 [==============================] - 47s 365us/sample - loss: 0.0976 - accuracy: 0.9704 - val_loss: 0.0655 - val_accuracy: 0.9778\n",
      "Epoch 2/50\n",
      "127656/127656 [==============================] - 38s 299us/sample - loss: 0.0600 - accuracy: 0.9792 - val_loss: 0.0580 - val_accuracy: 0.9793\n",
      "Epoch 3/50\n",
      "127656/127656 [==============================] - 39s 304us/sample - loss: 0.0550 - accuracy: 0.9804 - val_loss: 0.0549 - val_accuracy: 0.9802\n",
      "Epoch 4/50\n",
      "127656/127656 [==============================] - 38s 299us/sample - loss: 0.0520 - accuracy: 0.9812 - val_loss: 0.0533 - val_accuracy: 0.9808\n",
      "Epoch 5/50\n",
      "127656/127656 [==============================] - 39s 309us/sample - loss: 0.0501 - accuracy: 0.9818 - val_loss: 0.0515 - val_accuracy: 0.9814\n",
      "Epoch 6/50\n",
      "127656/127656 [==============================] - 40s 316us/sample - loss: 0.0486 - accuracy: 0.9821 - val_loss: 0.0507 - val_accuracy: 0.9816\n",
      "Epoch 7/50\n",
      "127656/127656 [==============================] - 39s 305us/sample - loss: 0.0473 - accuracy: 0.9825 - val_loss: 0.0497 - val_accuracy: 0.9818\n",
      "Epoch 8/50\n",
      "127656/127656 [==============================] - 40s 311us/sample - loss: 0.0463 - accuracy: 0.9828 - val_loss: 0.0502 - val_accuracy: 0.9815\n",
      "Epoch 9/50\n",
      "127656/127656 [==============================] - 37s 290us/sample - loss: 0.0454 - accuracy: 0.9830 - val_loss: 0.0491 - val_accuracy: 0.9821\n",
      "Epoch 10/50\n",
      "127656/127656 [==============================] - 40s 315us/sample - loss: 0.0446 - accuracy: 0.9833 - val_loss: 0.0484 - val_accuracy: 0.9821\n",
      "Epoch 11/50\n",
      "127656/127656 [==============================] - 40s 317us/sample - loss: 0.0438 - accuracy: 0.9835 - val_loss: 0.0485 - val_accuracy: 0.9821\n",
      "Epoch 12/50\n",
      "127656/127656 [==============================] - 40s 317us/sample - loss: 0.0431 - accuracy: 0.9837 - val_loss: 0.0479 - val_accuracy: 0.9820\n",
      "Epoch 13/50\n",
      "127656/127656 [==============================] - 40s 311us/sample - loss: 0.0424 - accuracy: 0.9840 - val_loss: 0.0499 - val_accuracy: 0.9820\n",
      "Epoch 14/50\n",
      "127656/127656 [==============================] - 41s 321us/sample - loss: 0.0419 - accuracy: 0.9841 - val_loss: 0.0478 - val_accuracy: 0.9824\n",
      "Epoch 15/50\n",
      "127656/127656 [==============================] - 39s 304us/sample - loss: 0.0414 - accuracy: 0.9843 - val_loss: 0.0476 - val_accuracy: 0.9823\n",
      "Epoch 16/50\n",
      "127656/127656 [==============================] - 39s 302us/sample - loss: 0.0410 - accuracy: 0.9844 - val_loss: 0.0486 - val_accuracy: 0.9822\n",
      "Epoch 17/50\n",
      "127656/127656 [==============================] - 38s 298us/sample - loss: 0.0404 - accuracy: 0.9847 - val_loss: 0.0482 - val_accuracy: 0.9825\n",
      "Epoch 18/50\n",
      "127656/127656 [==============================] - 39s 307us/sample - loss: 0.0402 - accuracy: 0.9848 - val_loss: 0.0476 - val_accuracy: 0.9825\n",
      "Epoch 19/50\n",
      "127656/127656 [==============================] - 39s 302us/sample - loss: 0.0399 - accuracy: 0.9848 - val_loss: 0.0486 - val_accuracy: 0.9821\n",
      "Epoch 20/50\n",
      "127656/127656 [==============================] - 40s 312us/sample - loss: 0.0395 - accuracy: 0.9849 - val_loss: 0.0482 - val_accuracy: 0.9825\n",
      "Epoch 21/50\n",
      "127656/127656 [==============================] - 40s 311us/sample - loss: 0.0390 - accuracy: 0.9851 - val_loss: 0.0481 - val_accuracy: 0.9823\n",
      "Epoch 22/50\n",
      "127656/127656 [==============================] - 38s 301us/sample - loss: 0.0389 - accuracy: 0.9851 - val_loss: 0.0488 - val_accuracy: 0.9823\n",
      "Wall time: 14min 31s\n"
     ]
    }
   ],
   "source": [
    "%%time\n",
    "history=model5.fit(\n",
    "                data,\n",
    "                targets,\n",
    "                batch_size=128,\n",
    "                epochs=EPOCHS,\n",
    "                validation_split=VALIDATION_SPLIT,\n",
    "                callbacks=[early_stopping,model_checkpoint]\n",
    "                )"
   ]
  },
  {
   "cell_type": "markdown",
   "metadata": {},
   "source": [
    "Make predictions"
   ]
  },
  {
   "cell_type": "code",
   "execution_count": null,
   "metadata": {},
   "outputs": [],
   "source": [
    "model = tf.keras.models.load_model(\"model5.h5\")\n",
    "\n",
    "# Predict on train data to evaluate AUC\n",
    "p=model.predict(data)\n",
    "\n",
    "aucs = []\n",
    "for j in range(6):\n",
    "    auc = roc_auc_score(targets[:,j], p[:,j])\n",
    "    aucs.append(auc)\n",
    "print(np.mean(aucs))\n",
    "\n",
    "# Make predictions on test data\n",
    "pred=model.predict(test_data)\n",
    "\n",
    "submit2 = pd.DataFrame(columns=[\"id\",\"toxic\",\"severe_toxic\",\"threat\",\"insult\",\"identity_hate\"])\n",
    "submit2[\"id\"] = test[\"id\"]\n",
    "\n",
    "i=0\n",
    "for col in possible_labels:\n",
    "    submit2[col]=pred[:,i]\n",
    "    i=i+1\n",
    "\n",
    "submit2.index=submit2.index+1\n",
    "submit2.to_csv(\"submission2.csv\",index=False)"
   ]
  },
  {
   "cell_type": "markdown",
   "metadata": {},
   "source": [
    "We get an AUC score of 0.98 on the train data using the model built using Bidirectional LSTMs."
   ]
  }
 ],
 "metadata": {
  "kernelspec": {
   "display_name": "Python 3",
   "language": "python",
   "name": "python3"
  },
  "language_info": {
   "codemirror_mode": {
    "name": "ipython",
    "version": 3
   },
   "file_extension": ".py",
   "mimetype": "text/x-python",
   "name": "python",
   "nbconvert_exporter": "python",
   "pygments_lexer": "ipython3",
   "version": "3.8.10"
  },
  "toc": {
   "base_numbering": 1,
   "nav_menu": {},
   "number_sections": true,
   "sideBar": false,
   "skip_h1_title": false,
   "title_cell": "Table of Contents",
   "title_sidebar": "Contents",
   "toc_cell": true,
   "toc_position": {
    "height": "47.2px",
    "left": "73px",
    "top": "752px",
    "width": "158.6px"
   },
   "toc_section_display": false,
   "toc_window_display": false
  },
  "varInspector": {
   "cols": {
    "lenName": 16,
    "lenType": 16,
    "lenVar": 40
   },
   "kernels_config": {
    "python": {
     "delete_cmd_postfix": "",
     "delete_cmd_prefix": "del ",
     "library": "var_list.py",
     "varRefreshCmd": "print(var_dic_list())"
    },
    "r": {
     "delete_cmd_postfix": ") ",
     "delete_cmd_prefix": "rm(",
     "library": "var_list.r",
     "varRefreshCmd": "cat(var_dic_list()) "
    }
   },
   "position": {
    "height": "256.534px",
    "left": "1056.36px",
    "right": "20px",
    "top": "29px",
    "width": "350px"
   },
   "types_to_exclude": [
    "module",
    "function",
    "builtin_function_or_method",
    "instance",
    "_Feature"
   ],
   "window_display": false
  }
 },
 "nbformat": 4,
 "nbformat_minor": 4
}
